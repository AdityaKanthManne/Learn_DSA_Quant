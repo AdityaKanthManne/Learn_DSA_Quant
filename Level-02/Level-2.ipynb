{
 "cells": [
  {
   "cell_type": "code",
   "id": "initial_id",
   "metadata": {
    "collapsed": true,
    "ExecuteTime": {
     "end_time": "2025-10-01T01:55:26.675290Z",
     "start_time": "2025-10-01T01:55:21.227888Z"
    }
   },
   "source": [
    "import re\n",
    "from ast import parse\n",
    "from datetime import datetime\n",
    "import yfinance as yf\n",
    "import pandas as pd"
   ],
   "outputs": [],
   "execution_count": 1
  },
  {
   "metadata": {
    "ExecuteTime": {
     "end_time": "2025-10-01T02:36:56.081231Z",
     "start_time": "2025-10-01T02:36:56.074933Z"
    }
   },
   "cell_type": "code",
   "source": [
    "def parse_option_ticker(ticker_str):\n",
    "    m=re.match(r\"^([A-Z]+)(\\d{6})([CP])(\\d+(\\.\\d+)?)$\",ticker_str)\n",
    "    if not m:\n",
    "        raise ValueError(f\"Unrecognized ticker format: {ticker_str}\")\n",
    "\n",
    "    underlying=m.group(1)\n",
    "    expiry_str=m.group(2)\n",
    "    option_type=\"Call\" if m.group(3)==\"C\" else \"Put\"\n",
    "    strike=float(m.group(4))\n",
    "\n",
    "    expiry_date= datetime.strptime(expiry_str,\"%y%m%d\").date()\n",
    "    return{\n",
    "        \"Underlying\": underlying,\n",
    "        \"Expiry Date\": expiry_date,\n",
    "        \"Strike\": strike,\n",
    "        \"Type\": option_type\n",
    "\n",
    "    }"
   ],
   "id": "3328ddcbb03bfe76",
   "outputs": [],
   "execution_count": 9
  },
  {
   "metadata": {
    "ExecuteTime": {
     "end_time": "2025-10-01T02:36:56.407538Z",
     "start_time": "2025-10-01T02:36:56.402039Z"
    }
   },
   "cell_type": "code",
   "source": [
    "def classify_moneyness(spot,strike,opt_type):\n",
    "    tol=0.005*spot\n",
    "    if abs(spot-strike)<=tol:\n",
    "        return \"ATM\"\n",
    "    if opt_type==\"Call\":\n",
    "        return \"ITM\" if spot>strike else\"OTM\"\n",
    "    else:\n",
    "        return \"OTM\" if spot>strike else\"ITM\""
   ],
   "id": "d316be4ad9bdbcc8",
   "outputs": [],
   "execution_count": 10
  },
  {
   "metadata": {
    "ExecuteTime": {
     "end_time": "2025-10-01T02:41:37.486209Z",
     "start_time": "2025-10-01T02:41:37.001105Z"
    }
   },
   "cell_type": "code",
   "source": [
    "opt_ticker=\"AAPL240621C125\"\n",
    "parsed=parse_option_ticker(opt_ticker)\n",
    "spot=yf.Ticker(parsed[\"Underlying\"]).history(period=\"1d\")[\"Close\"].iloc[-1]\n",
    "moneyness=classify_moneyness(spot,parsed[\"Strike\"],parsed[\"Type\"])\n",
    "parsed[\"spot\"]=round(spot,2)\n",
    "parsed[\"Moneyness\"]=moneyness\n",
    "print(parsed)"
   ],
   "id": "1d0159421defa504",
   "outputs": [
    {
     "name": "stdout",
     "output_type": "stream",
     "text": [
      "{'Underlying': 'AAPL', 'Expiry Date': datetime.date(2024, 6, 21), 'Strike': 125.0, 'Type': 'Call', 'spot': np.float64(254.63), 'Moneyness': 'ITM'}\n"
     ]
    }
   ],
   "execution_count": 14
  },
  {
   "metadata": {
    "ExecuteTime": {
     "end_time": "2025-10-01T02:41:59.590806Z",
     "start_time": "2025-10-01T02:41:59.326712Z"
    }
   },
   "cell_type": "code",
   "source": [
    "tickers = [\"AAPL240621C125\", \"AAPL240621P120\", \"AAPL240621C150\"]\n",
    "rows = []\n",
    "for t in tickers:\n",
    "    p = parse_option_ticker(t)\n",
    "    spot = yf.Ticker(p[\"Underlying\"]).history(period=\"1d\")[\"Close\"].iloc[-1]\n",
    "    p[\"Spot\"] = round(spot, 2)\n",
    "    p[\"Moneyness\"] = classify_moneyness(spot, p[\"Strike\"], p[\"Type\"])\n",
    "    rows.append(p)\n",
    "\n",
    "df = pd.DataFrame(rows)\n",
    "print(\"\\nMultiple option chain classification:\")\n",
    "print(df)"
   ],
   "id": "7ba07673540f555e",
   "outputs": [
    {
     "name": "stdout",
     "output_type": "stream",
     "text": [
      "\n",
      "Multiple option chain classification:\n",
      "  Underlying Expiry Date  Strike  Type    Spot Moneyness\n",
      "0       AAPL  2024-06-21   125.0  Call  254.63       ITM\n",
      "1       AAPL  2024-06-21   120.0   Put  254.63       OTM\n",
      "2       AAPL  2024-06-21   150.0  Call  254.63       ITM\n"
     ]
    }
   ],
   "execution_count": 15
  },
  {
   "metadata": {},
   "cell_type": "code",
   "outputs": [],
   "execution_count": null,
   "source": "",
   "id": "e33385f880ade0c0"
  }
 ],
 "metadata": {
  "kernelspec": {
   "display_name": "Python 3",
   "language": "python",
   "name": "python3"
  },
  "language_info": {
   "codemirror_mode": {
    "name": "ipython",
    "version": 2
   },
   "file_extension": ".py",
   "mimetype": "text/x-python",
   "name": "python",
   "nbconvert_exporter": "python",
   "pygments_lexer": "ipython2",
   "version": "2.7.6"
  }
 },
 "nbformat": 4,
 "nbformat_minor": 5
}
